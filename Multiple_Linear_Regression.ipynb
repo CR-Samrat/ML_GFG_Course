{
 "cells": [
  {
   "cell_type": "code",
   "execution_count": 2,
   "metadata": {},
   "outputs": [],
   "source": [
    "import pandas as pd\n",
    "import numpy as np\n",
    "import matplotlib.pyplot as plt\n",
    "from sklearn.model_selection import train_test_split\n",
    "from sklearn.linear_model import LinearRegression\n",
    "from sklearn.metrics import mean_squared_error"
   ]
  },
  {
   "cell_type": "code",
   "execution_count": 3,
   "metadata": {},
   "outputs": [
    {
     "data": {
      "text/html": [
       "<div>\n",
       "<style scoped>\n",
       "    .dataframe tbody tr th:only-of-type {\n",
       "        vertical-align: middle;\n",
       "    }\n",
       "\n",
       "    .dataframe tbody tr th {\n",
       "        vertical-align: top;\n",
       "    }\n",
       "\n",
       "    .dataframe thead th {\n",
       "        text-align: right;\n",
       "    }\n",
       "</style>\n",
       "<table border=\"1\" class=\"dataframe\">\n",
       "  <thead>\n",
       "    <tr style=\"text-align: right;\">\n",
       "      <th></th>\n",
       "      <th>Feature 1</th>\n",
       "      <th>Feature 2</th>\n",
       "      <th>Feature 3</th>\n",
       "      <th>Target</th>\n",
       "    </tr>\n",
       "  </thead>\n",
       "  <tbody>\n",
       "    <tr>\n",
       "      <th>0</th>\n",
       "      <td>230.1</td>\n",
       "      <td>37.8</td>\n",
       "      <td>69.2</td>\n",
       "      <td>22.1</td>\n",
       "    </tr>\n",
       "    <tr>\n",
       "      <th>1</th>\n",
       "      <td>44.5</td>\n",
       "      <td>39.3</td>\n",
       "      <td>45.1</td>\n",
       "      <td>10.4</td>\n",
       "    </tr>\n",
       "    <tr>\n",
       "      <th>2</th>\n",
       "      <td>17.2</td>\n",
       "      <td>45.9</td>\n",
       "      <td>69.3</td>\n",
       "      <td>9.3</td>\n",
       "    </tr>\n",
       "    <tr>\n",
       "      <th>3</th>\n",
       "      <td>151.5</td>\n",
       "      <td>41.3</td>\n",
       "      <td>58.5</td>\n",
       "      <td>18.5</td>\n",
       "    </tr>\n",
       "    <tr>\n",
       "      <th>4</th>\n",
       "      <td>180.8</td>\n",
       "      <td>10.8</td>\n",
       "      <td>58.4</td>\n",
       "      <td>12.9</td>\n",
       "    </tr>\n",
       "  </tbody>\n",
       "</table>\n",
       "</div>"
      ],
      "text/plain": [
       "   Feature 1  Feature 2  Feature 3  Target\n",
       "0      230.1       37.8       69.2    22.1\n",
       "1       44.5       39.3       45.1    10.4\n",
       "2       17.2       45.9       69.3     9.3\n",
       "3      151.5       41.3       58.5    18.5\n",
       "4      180.8       10.8       58.4    12.9"
      ]
     },
     "execution_count": 3,
     "metadata": {},
     "output_type": "execute_result"
    }
   ],
   "source": [
    "df = pd.read_csv('./DataSets/multiple_linear_regression.csv')\n",
    "\n",
    "df.head()"
   ]
  },
  {
   "cell_type": "markdown",
   "metadata": {},
   "source": [
    "## Preprocessing"
   ]
  },
  {
   "cell_type": "code",
   "execution_count": 4,
   "metadata": {},
   "outputs": [
    {
     "data": {
      "text/plain": [
       "Feature 1    0\n",
       "Feature 2    0\n",
       "Feature 3    0\n",
       "Target       0\n",
       "dtype: int64"
      ]
     },
     "execution_count": 4,
     "metadata": {},
     "output_type": "execute_result"
    }
   ],
   "source": [
    "df.isna().sum()"
   ]
  },
  {
   "cell_type": "markdown",
   "metadata": {},
   "source": [
    "## Spliting the data"
   ]
  },
  {
   "cell_type": "code",
   "execution_count": 5,
   "metadata": {},
   "outputs": [
    {
     "data": {
      "text/plain": [
       "array([[230.1,  37.8,  69.2],\n",
       "       [ 44.5,  39.3,  45.1],\n",
       "       [ 17.2,  45.9,  69.3],\n",
       "       [151.5,  41.3,  58.5],\n",
       "       [180.8,  10.8,  58.4],\n",
       "       [  8.7,  48.9,  75. ],\n",
       "       [ 57.5,  32.8,  23.5],\n",
       "       [120.2,  19.6,  11.6],\n",
       "       [  8.6,   2.1,   1. ],\n",
       "       [199.8,   2.6,  21.2],\n",
       "       [ 66.1,   5.8,  24.2],\n",
       "       [214.7,  24. ,   4. ],\n",
       "       [ 23.8,  35.1,  65.9],\n",
       "       [ 97.5,   7.6,   7.2],\n",
       "       [204.1,  32.9,  46. ],\n",
       "       [195.4,  47.7,  52.9],\n",
       "       [ 67.8,  36.6, 114. ],\n",
       "       [281.4,  39.6,  55.8],\n",
       "       [ 69.2,  20.5,  18.3],\n",
       "       [147.3,  23.9,  19.1],\n",
       "       [218.4,  27.7,  53.4],\n",
       "       [237.4,   5.1,  23.5],\n",
       "       [ 13.2,  15.9,  49.6],\n",
       "       [228.3,  16.9,  26.2],\n",
       "       [ 62.3,  12.6,  18.3],\n",
       "       [262.9,   3.5,  19.5],\n",
       "       [142.9,  29.3,  12.6],\n",
       "       [240.1,  16.7,  22.9],\n",
       "       [248.8,  27.1,  22.9],\n",
       "       [ 70.6,  16. ,  40.8],\n",
       "       [292.9,  28.3,  43.2],\n",
       "       [112.9,  17.4,  38.6],\n",
       "       [ 97.2,   1.5,  30. ],\n",
       "       [265.6,  20. ,   0.3],\n",
       "       [ 95.7,   1.4,   7.4],\n",
       "       [290.7,   4.1,   8.5],\n",
       "       [266.9,  43.8,   5. ],\n",
       "       [ 74.7,  49.4,  45.7],\n",
       "       [ 43.1,  26.7,  35.1],\n",
       "       [228. ,  37.7,  32. ],\n",
       "       [202.5,  22.3,  31.6],\n",
       "       [177. ,  33.4,  38.7],\n",
       "       [293.6,  27.7,   1.8],\n",
       "       [206.9,   8.4,  26.4],\n",
       "       [ 25.1,  25.7,  43.3],\n",
       "       [175.1,  22.5,  31.5],\n",
       "       [ 89.7,   9.9,  35.7],\n",
       "       [239.9,  41.5,  18.5],\n",
       "       [227.2,  15.8,  49.9],\n",
       "       [ 66.9,  11.7,  36.8],\n",
       "       [199.8,   3.1,  34.6],\n",
       "       [100.4,   9.6,   3.6],\n",
       "       [216.4,  41.7,  39.6],\n",
       "       [182.6,  46.2,  58.7],\n",
       "       [262.7,  28.8,  15.9],\n",
       "       [198.9,  49.4,  60. ],\n",
       "       [  7.3,  28.1,  41.4],\n",
       "       [136.2,  19.2,  16.6],\n",
       "       [210.8,  49.6,  37.7],\n",
       "       [210.7,  29.5,   9.3],\n",
       "       [ 53.5,   2. ,  21.4],\n",
       "       [261.3,  42.7,  54.7],\n",
       "       [239.3,  15.5,  27.3],\n",
       "       [102.7,  29.6,   8.4],\n",
       "       [131.1,  42.8,  28.9],\n",
       "       [ 69. ,   9.3,   0.9],\n",
       "       [ 31.5,  24.6,   2.2],\n",
       "       [139.3,  14.5,  10.2],\n",
       "       [237.4,  27.5,  11. ],\n",
       "       [216.8,  43.9,  27.2],\n",
       "       [199.1,  30.6,  38.7],\n",
       "       [109.8,  14.3,  31.7],\n",
       "       [ 26.8,  33. ,  19.3],\n",
       "       [129.4,   5.7,  31.3],\n",
       "       [213.4,  24.6,  13.1],\n",
       "       [ 16.9,  43.7,  89.4],\n",
       "       [ 27.5,   1.6,  20.7],\n",
       "       [120.5,  28.5,  14.2],\n",
       "       [  5.4,  29.9,   9.4],\n",
       "       [116. ,   7.7,  23.1],\n",
       "       [ 76.4,  26.7,  22.3],\n",
       "       [239.8,   4.1,  36.9],\n",
       "       [ 75.3,  20.3,  32.5],\n",
       "       [ 68.4,  44.5,  35.6],\n",
       "       [213.5,  43. ,  33.8],\n",
       "       [193.2,  18.4,  65.7],\n",
       "       [ 76.3,  27.5,  16. ],\n",
       "       [110.7,  40.6,  63.2],\n",
       "       [ 88.3,  25.5,  73.4],\n",
       "       [109.8,  47.8,  51.4],\n",
       "       [134.3,   4.9,   9.3],\n",
       "       [ 28.6,   1.5,  33. ],\n",
       "       [217.7,  33.5,  59. ],\n",
       "       [250.9,  36.5,  72.3],\n",
       "       [107.4,  14. ,  10.9],\n",
       "       [163.3,  31.6,  52.9],\n",
       "       [197.6,   3.5,   5.9],\n",
       "       [184.9,  21. ,  22. ],\n",
       "       [289.7,  42.3,  51.2],\n",
       "       [135.2,  41.7,  45.9],\n",
       "       [222.4,   4.3,  49.8],\n",
       "       [296.4,  36.3, 100.9],\n",
       "       [280.2,  10.1,  21.4],\n",
       "       [187.9,  17.2,  17.9],\n",
       "       [238.2,  34.3,   5.3],\n",
       "       [137.9,  46.4,  59. ],\n",
       "       [ 25. ,  11. ,  29.7],\n",
       "       [ 90.4,   0.3,  23.2],\n",
       "       [ 13.1,   0.4,  25.6],\n",
       "       [255.4,  26.9,   5.5],\n",
       "       [225.8,   8.2,  56.5],\n",
       "       [241.7,  38. ,  23.2],\n",
       "       [175.7,  15.4,   2.4],\n",
       "       [209.6,  20.6,  10.7],\n",
       "       [ 78.2,  46.8,  34.5],\n",
       "       [ 75.1,  35. ,  52.7],\n",
       "       [139.2,  14.3,  25.6],\n",
       "       [ 76.4,   0.8,  14.8],\n",
       "       [125.7,  36.9,  79.2],\n",
       "       [ 19.4,  16. ,  22.3],\n",
       "       [141.3,  26.8,  46.2],\n",
       "       [ 18.8,  21.7,  50.4],\n",
       "       [224. ,   2.4,  15.6],\n",
       "       [123.1,  34.6,  12.4],\n",
       "       [229.5,  32.3,  74.2],\n",
       "       [ 87.2,  11.8,  25.9],\n",
       "       [  7.8,  38.9,  50.6],\n",
       "       [ 80.2,   0. ,   9.2],\n",
       "       [220.3,  49. ,   3.2],\n",
       "       [ 59.6,  12. ,  43.1],\n",
       "       [  0.7,  39.6,   8.7],\n",
       "       [265.2,   2.9,  43. ],\n",
       "       [  8.4,  27.2,   2.1],\n",
       "       [219.8,  33.5,  45.1],\n",
       "       [ 36.9,  38.6,  65.6],\n",
       "       [ 48.3,  47. ,   8.5],\n",
       "       [ 25.6,  39. ,   9.3],\n",
       "       [273.7,  28.9,  59.7],\n",
       "       [ 43. ,  25.9,  20.5],\n",
       "       [184.9,  43.9,   1.7],\n",
       "       [ 73.4,  17. ,  12.9],\n",
       "       [193.7,  35.4,  75.6],\n",
       "       [220.5,  33.2,  37.9],\n",
       "       [104.6,   5.7,  34.4],\n",
       "       [ 96.2,  14.8,  38.9],\n",
       "       [140.3,   1.9,   9. ],\n",
       "       [240.1,   7.3,   8.7],\n",
       "       [243.2,  49. ,  44.3],\n",
       "       [ 38. ,  40.3,  11.9],\n",
       "       [ 44.7,  25.8,  20.6],\n",
       "       [280.7,  13.9,  37. ],\n",
       "       [121. ,   8.4,  48.7],\n",
       "       [197.6,  23.3,  14.2],\n",
       "       [171.3,  39.7,  37.7],\n",
       "       [187.8,  21.1,   9.5],\n",
       "       [  4.1,  11.6,   5.7],\n",
       "       [ 93.9,  43.5,  50.5],\n",
       "       [149.8,   1.3,  24.3],\n",
       "       [ 11.7,  36.9,  45.2],\n",
       "       [131.7,  18.4,  34.6],\n",
       "       [172.5,  18.1,  30.7],\n",
       "       [ 85.7,  35.8,  49.3],\n",
       "       [188.4,  18.1,  25.6],\n",
       "       [163.5,  36.8,   7.4],\n",
       "       [117.2,  14.7,   5.4],\n",
       "       [234.5,   3.4,  84.8],\n",
       "       [ 17.9,  37.6,  21.6],\n",
       "       [206.8,   5.2,  19.4],\n",
       "       [215.4,  23.6,  57.6],\n",
       "       [284.3,  10.6,   6.4],\n",
       "       [ 50. ,  11.6,  18.4],\n",
       "       [164.5,  20.9,  47.4],\n",
       "       [ 19.6,  20.1,  17. ],\n",
       "       [168.4,   7.1,  12.8],\n",
       "       [222.4,   3.4,  13.1],\n",
       "       [276.9,  48.9,  41.8],\n",
       "       [248.4,  30.2,  20.3],\n",
       "       [170.2,   7.8,  35.2],\n",
       "       [276.7,   2.3,  23.7],\n",
       "       [165.6,  10. ,  17.6],\n",
       "       [156.6,   2.6,   8.3],\n",
       "       [218.5,   5.4,  27.4],\n",
       "       [ 56.2,   5.7,  29.7],\n",
       "       [287.6,  43. ,  71.8],\n",
       "       [253.8,  21.3,  30. ],\n",
       "       [205. ,  45.1,  19.6],\n",
       "       [139.5,   2.1,  26.6],\n",
       "       [191.1,  28.7,  18.2],\n",
       "       [286. ,  13.9,   3.7],\n",
       "       [ 18.7,  12.1,  23.4],\n",
       "       [ 39.5,  41.1,   5.8],\n",
       "       [ 75.5,  10.8,   6. ],\n",
       "       [ 17.2,   4.1,  31.6],\n",
       "       [166.8,  42. ,   3.6],\n",
       "       [149.7,  35.6,   6. ],\n",
       "       [ 38.2,   3.7,  13.8],\n",
       "       [ 94.2,   4.9,   8.1],\n",
       "       [177. ,   9.3,   6.4],\n",
       "       [283.6,  42. ,  66.2],\n",
       "       [232.1,   8.6,   8.7]])"
      ]
     },
     "execution_count": 5,
     "metadata": {},
     "output_type": "execute_result"
    }
   ],
   "source": [
    "x = np.array(df.iloc[:,:3])\n",
    "y = np.array(df.iloc[:,3])\n",
    "\n",
    "x"
   ]
  },
  {
   "cell_type": "code",
   "execution_count": 6,
   "metadata": {},
   "outputs": [
    {
     "data": {
      "text/plain": [
       "(60, 3)"
      ]
     },
     "execution_count": 6,
     "metadata": {},
     "output_type": "execute_result"
    }
   ],
   "source": [
    "x_train, x_test, y_train, y_test = train_test_split(x,y, test_size=0.3, random_state=42)\n",
    "\n",
    "x_test.shape"
   ]
  },
  {
   "cell_type": "code",
   "execution_count": 7,
   "metadata": {},
   "outputs": [
    {
     "data": {
      "text/plain": [
       "(140, 3)"
      ]
     },
     "execution_count": 7,
     "metadata": {},
     "output_type": "execute_result"
    }
   ],
   "source": [
    "x_train.shape"
   ]
  },
  {
   "cell_type": "markdown",
   "metadata": {},
   "source": [
    "## Linear Regression Model"
   ]
  },
  {
   "cell_type": "code",
   "execution_count": 8,
   "metadata": {},
   "outputs": [
    {
     "data": {
      "text/plain": [
       "array([16.5653963 , 21.18822792, 21.55107058, 10.88923816, 22.20231988,\n",
       "       13.35556872, 21.19692502,  7.35028523, 13.27547079, 15.12449511,\n",
       "        9.01443026,  6.52542825, 14.30205991,  8.97026042,  9.45679576,\n",
       "       12.00454351,  8.91549403, 16.15619251, 10.29582883, 18.72473553,\n",
       "       19.76821818, 13.77469028, 12.49638908, 21.53501762,  7.60860741,\n",
       "        5.6119801 , 20.91759483, 11.80627665,  9.08076637,  8.51412012,\n",
       "       12.17604891,  9.9691939 , 21.73008956, 12.77770578, 18.1011362 ,\n",
       "       20.07590796, 14.26202556, 20.93826535, 10.83938827,  4.38190607,\n",
       "        9.51332406, 12.40486324, 10.17045434,  8.09081363, 13.16388427,\n",
       "        5.2243552 ,  9.28893833, 14.09330719,  8.69024497, 11.66119763,\n",
       "       15.71848432, 11.63156862, 13.35360735, 11.1531472 ,  6.33636845,\n",
       "        9.76157954,  9.4195714 , 24.25516546,  7.69519137, 12.15317572])"
      ]
     },
     "execution_count": 8,
     "metadata": {},
     "output_type": "execute_result"
    }
   ],
   "source": [
    "model = LinearRegression()\n",
    "\n",
    "model.fit(x_train, y_train)\n",
    "\n",
    "y_pred = model.predict(x_test)\n",
    "\n",
    "y_pred"
   ]
  },
  {
   "cell_type": "markdown",
   "metadata": {},
   "source": [
    "## Error Analysis"
   ]
  },
  {
   "cell_type": "code",
   "execution_count": 9,
   "metadata": {},
   "outputs": [
    {
     "data": {
      "text/plain": [
       "3.7967972367152227"
      ]
     },
     "execution_count": 9,
     "metadata": {},
     "output_type": "execute_result"
    }
   ],
   "source": [
    "mean_squared_error(y_pred, y_test)"
   ]
  },
  {
   "cell_type": "markdown",
   "metadata": {},
   "source": [
    "## Visualization"
   ]
  },
  {
   "cell_type": "code",
   "execution_count": 10,
   "metadata": {},
   "outputs": [
    {
     "data": {
      "image/png": "[encoded data removed]",
      "text/plain": [
       "<Figure size 640x480 with 1 Axes>"
      ]
     },
     "metadata": {},
     "output_type": "display_data"
    }
   ],
   "source": [
    "plt.plot(x_test, y_test, \"+\", color=\"blue\", label=\"Actual Data\")\n",
    "plt.plot(x_test, y_pred, \".\", color=\"red\", label=\"Predicted Data\")\n",
    "plt.title(\"Linear Regression Model Prediction\")\n",
    "plt.legend()\n",
    "plt.show()"
   ]
  },
  {
   "cell_type": "markdown",
   "metadata": {},
   "source": [
    "## Linear Regression Property Validation"
   ]
  },
  {
   "cell_type": "markdown",
   "metadata": {},
   "source": [
    "**Homosedasity**"
   ]
  },
  {
   "cell_type": "code",
   "execution_count": 11,
   "metadata": {},
   "outputs": [
    {
     "data": {
      "text/plain": [
       "array([-0.3346037 , -1.21177208,  0.15107058,  3.58923816, -2.49768012,\n",
       "        0.75556872, -1.10307498, -1.04971477,  1.77547079,  0.22449511,\n",
       "       -0.48556974, -2.17457175,  2.40205991,  3.67026042, -0.84320424,\n",
       "        0.30454351,  3.41549403, -0.44380749, -1.00417117, -0.17526447,\n",
       "        0.06821818,  1.27469028,  1.59638908, -0.66498238, -1.69139259,\n",
       "       -2.4880199 , -0.78240517, -1.59372335, -1.51923363,  2.81412012,\n",
       "        1.57604891, -1.3308061 , -1.96991044,  4.07770578,  2.0011362 ,\n",
       "       -0.62409204,  2.66202556,  0.13826535, -1.06061173, -2.51809393,\n",
       "       -1.48667594, -0.39513676,  0.07045434, -1.60918637,  1.56388427,\n",
       "       -2.3756448 , -1.21106167, -0.50669281, -1.70975503, -0.33880237,\n",
       "        1.11848432, -0.06843138,  6.15360735,  4.5531472 , -3.06363155,\n",
       "       -1.23842046, -1.4804286 , -1.14483454,  0.09519137,  0.45317572])"
      ]
     },
     "execution_count": 11,
     "metadata": {},
     "output_type": "execute_result"
    }
   ],
   "source": [
    "prediction = y_pred\n",
    "residual = y_pred - y_test\n",
    "\n",
    "residual"
   ]
  },
  {
   "cell_type": "code",
   "execution_count": 13,
   "metadata": {},
   "outputs": [
    {
     "data": {
      "image/png": "[encoded data removed]",
      "text/plain": [
       "<Figure size 640x480 with 1 Axes>"
      ]
     },
     "metadata": {},
     "output_type": "display_data"
    }
   ],
   "source": [
    "plt.scatter(prediction, residual)\n",
    "plt.xlabel(\"Predictions\")\n",
    "plt.ylabel(\"Residual\")\n",
    "plt.show()"
   ]
  },
  {
   "cell_type": "markdown",
   "metadata": {},
   "source": [
    "**Normality in Residual**"
   ]
  },
  {
   "cell_type": "code",
   "execution_count": 18,
   "metadata": {},
   "outputs": [
    {
     "name": "stderr",
     "output_type": "stream",
     "text": [
      "C:\\Users\\Subhadeep_Sarkar\\AppData\\Local\\Temp\\ipykernel_11788\\121899862.py:3: UserWarning: \n",
      "\n",
      "`distplot` is a deprecated function and will be removed in seaborn v0.14.0.\n",
      "\n",
      "Please adapt your code to use either `displot` (a figure-level function with\n",
      "similar flexibility) or `histplot` (an axes-level function for histograms).\n",
      "\n",
      "For a guide to updating your code to use the new functions, please see\n",
      "https://gist.github.com/mwaskom/de44147ed2974457ad6372750bbe5751\n",
      "\n",
      "  sns.distplot(residual).set_title(\"Distribution Of Residual\")\n"
     ]
    },
    {
     "data": {
      "text/plain": [
       "Text(0.5, 1.0, 'Distribution Of Residual')"
      ]
     },
     "execution_count": 18,
     "metadata": {},
     "output_type": "execute_result"
    },
    {
     "data": {
      "image/png": "[encoded data removed]",
      "text/plain": [
       "<Figure size 640x480 with 1 Axes>"
      ]
     },
     "metadata": {},
     "output_type": "display_data"
    }
   ],
   "source": [
    "import seaborn as sns\n",
    "\n",
    "sns.distplot(residual).set_title(\"Distribution Of Residual\")"
   ]
  },
  {
   "cell_type": "markdown",
   "metadata": {},
   "source": [
    "## Ordinary Least Square (OLS) Method"
   ]
  },
  {
   "cell_type": "code",
   "execution_count": 20,
   "metadata": {},
   "outputs": [
    {
     "data": {
      "text/plain": [
       "array([[  1. , 284.3,  10.6,   6.4],\n",
       "       [  1. , 184.9,  21. ,  22. ],\n",
       "       [  1. , 112.9,  17.4,  38.6],\n",
       "       [  1. ,  23.8,  35.1,  65.9],\n",
       "       [  1. , 290.7,   4.1,   8.5],\n",
       "       [  1. ,  19.4,  16. ,  22.3],\n",
       "       [  1. , 293.6,  27.7,   1.8],\n",
       "       [  1. ,  18.7,  12.1,  23.4],\n",
       "       [  1. , 134.3,   4.9,   9.3],\n",
       "       [  1. ,  25.6,  39. ,   9.3],\n",
       "       [  1. , 100.4,   9.6,   3.6],\n",
       "       [  1. ,  80.2,   0. ,   9.2],\n",
       "       [  1. , 188.4,  18.1,  25.6],\n",
       "       [  1. , 177. ,  33.4,  38.7],\n",
       "       [  1. , 125.7,  36.9,  79.2],\n",
       "       [  1. , 209.6,  20.6,  10.7],\n",
       "       [  1. , 142.9,  29.3,  12.6],\n",
       "       [  1. , 184.9,  43.9,   1.7],\n",
       "       [  1. , 222.4,   4.3,  49.8],\n",
       "       [  1. , 241.7,  38. ,  23.2],\n",
       "       [  1. ,  17.2,  45.9,  69.3],\n",
       "       [  1. , 120.5,  28.5,  14.2],\n",
       "       [  1. ,  89.7,   9.9,  35.7],\n",
       "       [  1. , 191.1,  28.7,  18.2],\n",
       "       [  1. ,  75.5,  10.8,   6. ],\n",
       "       [  1. , 193.2,  18.4,  65.7],\n",
       "       [  1. ,  85.7,  35.8,  49.3],\n",
       "       [  1. , 266.9,  43.8,   5. ],\n",
       "       [  1. ,  39.5,  41.1,   5.8],\n",
       "       [  1. , 261.3,  42.7,  54.7],\n",
       "       [  1. ,  13.2,  15.9,  49.6],\n",
       "       [  1. , 193.7,  35.4,  75.6],\n",
       "       [  1. , 296.4,  36.3, 100.9],\n",
       "       [  1. , 265.6,  20. ,   0.3],\n",
       "       [  1. , 214.7,  24. ,   4. ],\n",
       "       [  1. , 149.7,  35.6,   6. ],\n",
       "       [  1. , 131.7,  18.4,  34.6],\n",
       "       [  1. ,  57.5,  32.8,  23.5],\n",
       "       [  1. , 240.1,  16.7,  22.9],\n",
       "       [  1. , 141.3,  26.8,  46.2],\n",
       "       [  1. , 180.8,  10.8,  58.4],\n",
       "       [  1. ,  97.2,   1.5,  30. ],\n",
       "       [  1. , 220.5,  33.2,  37.9],\n",
       "       [  1. , 140.3,   1.9,   9. ],\n",
       "       [  1. , 255.4,  26.9,   5.5],\n",
       "       [  1. ,  96.2,  14.8,  38.9],\n",
       "       [  1. ,  66.1,   5.8,  24.2],\n",
       "       [  1. , 239.3,  15.5,  27.3],\n",
       "       [  1. , 175.7,  15.4,   2.4],\n",
       "       [  1. , 240.1,   7.3,   8.7],\n",
       "       [  1. ,  17.9,  37.6,  21.6],\n",
       "       [  1. , 230.1,  37.8,  69.2],\n",
       "       [  1. , 283.6,  42. ,  66.2],\n",
       "       [  1. , 171.3,  39.7,  37.7],\n",
       "       [  1. , 199.1,  30.6,  38.7],\n",
       "       [  1. , 123.1,  34.6,  12.4],\n",
       "       [  1. , 131.1,  42.8,  28.9],\n",
       "       [  1. ,  25.1,  25.7,  43.3],\n",
       "       [  1. , 163.5,  36.8,   7.4],\n",
       "       [  1. , 248.8,  27.1,  22.9],\n",
       "       [  1. , 202.5,  22.3,  31.6],\n",
       "       [  1. ,  13.1,   0.4,  25.6],\n",
       "       [  1. ,   4.1,  11.6,   5.7],\n",
       "       [  1. ,  93.9,  43.5,  50.5],\n",
       "       [  1. , 262.9,   3.5,  19.5],\n",
       "       [  1. , 228.3,  16.9,  26.2],\n",
       "       [  1. , 253.8,  21.3,  30. ],\n",
       "       [  1. , 243.2,  49. ,  44.3],\n",
       "       [  1. , 239.8,   4.1,  36.9],\n",
       "       [  1. , 228. ,  37.7,  32. ],\n",
       "       [  1. , 215.4,  23.6,  57.6],\n",
       "       [  1. , 239.9,  41.5,  18.5],\n",
       "       [  1. , 107.4,  14. ,  10.9],\n",
       "       [  1. , 187.8,  21.1,   9.5],\n",
       "       [  1. , 206.9,   8.4,  26.4],\n",
       "       [  1. ,  43. ,  25.9,  20.5],\n",
       "       [  1. , 151.5,  41.3,  58.5],\n",
       "       [  1. , 137.9,  46.4,  59. ],\n",
       "       [  1. , 182.6,  46.2,  58.7],\n",
       "       [  1. , 219.8,  33.5,  45.1],\n",
       "       [  1. , 156.6,   2.6,   8.3],\n",
       "       [  1. , 276.7,   2.3,  23.7],\n",
       "       [  1. , 205. ,  45.1,  19.6],\n",
       "       [  1. ,  66.9,  11.7,  36.8],\n",
       "       [  1. ,  76.4,  26.7,  22.3],\n",
       "       [  1. ,  95.7,   1.4,   7.4],\n",
       "       [  1. , 120.2,  19.6,  11.6],\n",
       "       [  1. , 225.8,   8.2,  56.5],\n",
       "       [  1. ,  28.6,   1.5,  33. ],\n",
       "       [  1. ,  68.4,  44.5,  35.6],\n",
       "       [  1. , 248.4,  30.2,  20.3],\n",
       "       [  1. , 218.5,   5.4,  27.4],\n",
       "       [  1. , 109.8,  47.8,  51.4],\n",
       "       [  1. ,   8.6,   2.1,   1. ],\n",
       "       [  1. ,  97.5,   7.6,   7.2],\n",
       "       [  1. , 210.7,  29.5,   9.3],\n",
       "       [  1. , 164.5,  20.9,  47.4],\n",
       "       [  1. , 265.2,   2.9,  43. ],\n",
       "       [  1. , 281.4,  39.6,  55.8],\n",
       "       [  1. ,  26.8,  33. ,  19.3],\n",
       "       [  1. , 276.9,  48.9,  41.8],\n",
       "       [  1. ,  36.9,  38.6,  65.6],\n",
       "       [  1. , 206.8,   5.2,  19.4],\n",
       "       [  1. , 287.6,  43. ,  71.8],\n",
       "       [  1. , 102.7,  29.6,   8.4],\n",
       "       [  1. , 262.7,  28.8,  15.9],\n",
       "       [  1. ,  90.4,   0.3,  23.2],\n",
       "       [  1. , 199.8,   3.1,  34.6],\n",
       "       [  1. ,  94.2,   4.9,   8.1],\n",
       "       [  1. , 210.8,  49.6,  37.7],\n",
       "       [  1. , 227.2,  15.8,  49.9],\n",
       "       [  1. ,  88.3,  25.5,  73.4],\n",
       "       [  1. , 237.4,   5.1,  23.5],\n",
       "       [  1. , 136.2,  19.2,  16.6],\n",
       "       [  1. , 172.5,  18.1,  30.7],\n",
       "       [  1. ,  17.2,   4.1,  31.6],\n",
       "       [  1. ,  59.6,  12. ,  43.1],\n",
       "       [  1. ,  74.7,  49.4,  45.7],\n",
       "       [  1. , 149.8,   1.3,  24.3],\n",
       "       [  1. , 166.8,  42. ,   3.6],\n",
       "       [  1. ,  44.5,  39.3,  45.1],\n",
       "       [  1. , 216.4,  41.7,  39.6],\n",
       "       [  1. ,  44.7,  25.8,  20.6],\n",
       "       [  1. ,   0.7,  39.6,   8.7],\n",
       "       [  1. , 121. ,   8.4,  48.7],\n",
       "       [  1. , 187.9,  17.2,  17.9],\n",
       "       [  1. , 135.2,  41.7,  45.9],\n",
       "       [  1. , 139.2,  14.3,  25.6],\n",
       "       [  1. , 110.7,  40.6,  63.2],\n",
       "       [  1. , 213.4,  24.6,  13.1],\n",
       "       [  1. ,  18.8,  21.7,  50.4],\n",
       "       [  1. , 232.1,   8.6,   8.7],\n",
       "       [  1. , 218.4,  27.7,  53.4],\n",
       "       [  1. , 286. ,  13.9,   3.7],\n",
       "       [  1. , 109.8,  14.3,  31.7],\n",
       "       [  1. ,  25. ,  11. ,  29.7],\n",
       "       [  1. , 204.1,  32.9,  46. ],\n",
       "       [  1. , 217.7,  33.5,  59. ],\n",
       "       [  1. , 165.6,  10. ,  17.6],\n",
       "       [  1. , 280.2,  10.1,  21.4]])"
      ]
     },
     "execution_count": 20,
     "metadata": {},
     "output_type": "execute_result"
    }
   ],
   "source": [
    "import statsmodels.api as sm\n",
    "\n",
    "x_with_const = sm.add_constant(x_train)\n",
    "\n",
    "x_with_const"
   ]
  },
  {
   "cell_type": "code",
   "execution_count": 21,
   "metadata": {},
   "outputs": [
    {
     "data": {
      "text/plain": [
       "array([2.70894909, 0.04405928, 0.1992875 , 0.00688245])"
      ]
     },
     "execution_count": 21,
     "metadata": {},
     "output_type": "execute_result"
    }
   ],
   "source": [
    "ols = sm.OLS(y_train, x_with_const)\n",
    "\n",
    "result = ols.fit()\n",
    "\n",
    "result.params"
   ]
  },
  {
   "cell_type": "code",
   "execution_count": 24,
   "metadata": {},
   "outputs": [
    {
     "name": "stdout",
     "output_type": "stream",
     "text": [
      "                            OLS Regression Results                            \n",
      "==============================================================================\n",
      "Dep. Variable:                      y   R-squared:                       0.906\n",
      "Model:                            OLS   Adj. R-squared:                  0.903\n",
      "Method:                 Least Squares   F-statistic:                     434.5\n",
      "Date:                Sat, 03 Feb 2024   Prob (F-statistic):           1.88e-69\n",
      "Time:                        15:15:58   Log-Likelihood:                -262.21\n",
      "No. Observations:                 140   AIC:                             532.4\n",
      "Df Residuals:                     136   BIC:                             544.2\n",
      "Df Model:                           3                                         \n",
      "Covariance Type:            nonrobust                                         \n",
      "==============================================================================\n",
      "                 coef    std err          t      P>|t|      [0.025      0.975]\n",
      "------------------------------------------------------------------------------\n",
      "const          2.7089      0.374      7.250      0.000       1.970       3.448\n",
      "x1             0.0441      0.002     27.219      0.000       0.041       0.047\n",
      "x2             0.1993      0.010     20.195      0.000       0.180       0.219\n",
      "x3             0.0069      0.007      0.988      0.325      -0.007       0.021\n",
      "==============================================================================\n",
      "Omnibus:                       68.437   Durbin-Watson:                   2.285\n",
      "Prob(Omnibus):                  0.000   Jarque-Bera (JB):              325.342\n",
      "Skew:                          -1.709   Prob(JB):                     2.25e-71\n",
      "Kurtosis:                       9.640   Cond. No.                         500.\n",
      "==============================================================================\n",
      "\n",
      "Notes:\n",
      "[1] Standard Errors assume that the covariance matrix of the errors is correctly specified.\n"
     ]
    }
   ],
   "source": [
    "print(result.summary())"
   ]
  },
  {
   "cell_type": "markdown",
   "metadata": {},
   "source": [
    "**Prediction**"
   ]
  },
  {
   "cell_type": "code",
   "execution_count": 25,
   "metadata": {},
   "outputs": [
    {
     "name": "stdout",
     "output_type": "stream",
     "text": [
      "[16.5653963  21.18822792 21.55107058 10.88923816 22.20231988 13.35556872\n",
      " 21.19692502  7.35028523 13.27547079 15.12449511  9.01443026  6.52542825\n",
      " 14.30205991  8.97026042  9.45679576 12.00454351  8.91549403 16.15619251\n",
      " 10.29582883 18.72473553 19.76821818 13.77469028 12.49638908 21.53501762\n",
      "  7.60860741  5.6119801  20.91759483 11.80627665  9.08076637  8.51412012\n",
      " 12.17604891  9.9691939  21.73008956 12.77770578 18.1011362  20.07590796\n",
      " 14.26202556 20.93826535 10.83938827  4.38190607  9.51332406 12.40486324\n",
      " 10.17045434  8.09081363 13.16388427  5.2243552   9.28893833 14.09330719\n",
      "  8.69024497 11.66119763 15.71848432 11.63156862 13.35360735 11.1531472\n",
      "  6.33636845  9.76157954  9.4195714  24.25516546  7.69519137 12.15317572]\n"
     ]
    }
   ],
   "source": [
    "x_test = sm.add_constant(x_test)\n",
    "\n",
    "y_pred = result.predict(x_test)\n",
    "\n",
    "print(y_pred)"
   ]
  },
  {
   "cell_type": "code",
   "execution_count": 26,
   "metadata": {},
   "outputs": [
    {
     "data": {
      "text/plain": [
       "3.796797236715215"
      ]
     },
     "execution_count": 26,
     "metadata": {},
     "output_type": "execute_result"
    }
   ],
   "source": [
    "mean_squared_error(y_pred, y_test)"
   ]
  }
 ],
 "metadata": {
  "kernelspec": {
   "display_name": "Python 3",
   "language": "python",
   "name": "python3"
  },
  "language_info": {
   "codemirror_mode": {
    "name": "ipython",
    "version": 3
   },
   "file_extension": ".py",
   "mimetype": "text/x-python",
   "name": "python",
   "nbconvert_exporter": "python",
   "pygments_lexer": "ipython3",
   "version": "3.11.3"
  }
 },
 "nbformat": 4,
 "nbformat_minor": 2
}
