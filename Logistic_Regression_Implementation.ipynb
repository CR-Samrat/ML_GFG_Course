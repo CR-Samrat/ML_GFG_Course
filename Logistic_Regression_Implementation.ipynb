{
 "cells": [
  {
   "cell_type": "code",
   "execution_count": 2,
   "metadata": {},
   "outputs": [],
   "source": [
    "import numpy as np\n",
    "import pandas as pd\n",
    "import matplotlib.pyplot as plt\n",
    "import seaborn as sns"
   ]
  },
  {
   "cell_type": "markdown",
   "metadata": {},
   "source": [
    "## Loading the dataset"
   ]
  },
  {
   "cell_type": "code",
   "execution_count": 3,
   "metadata": {},
   "outputs": [
    {
     "data": {
      "text/html": [
       "<div>\n",
       "<style scoped>\n",
       "    .dataframe tbody tr th:only-of-type {\n",
       "        vertical-align: middle;\n",
       "    }\n",
       "\n",
       "    .dataframe tbody tr th {\n",
       "        vertical-align: top;\n",
       "    }\n",
       "\n",
       "    .dataframe thead th {\n",
       "        text-align: right;\n",
       "    }\n",
       "</style>\n",
       "<table border=\"1\" class=\"dataframe\">\n",
       "  <thead>\n",
       "    <tr style=\"text-align: right;\">\n",
       "      <th></th>\n",
       "      <th>sepal length (cm)</th>\n",
       "      <th>sepal width (cm)</th>\n",
       "      <th>petal length (cm)</th>\n",
       "      <th>petal width (cm)</th>\n",
       "    </tr>\n",
       "  </thead>\n",
       "  <tbody>\n",
       "    <tr>\n",
       "      <th>0</th>\n",
       "      <td>5.1</td>\n",
       "      <td>3.5</td>\n",
       "      <td>1.4</td>\n",
       "      <td>0.2</td>\n",
       "    </tr>\n",
       "    <tr>\n",
       "      <th>1</th>\n",
       "      <td>4.9</td>\n",
       "      <td>3.0</td>\n",
       "      <td>1.4</td>\n",
       "      <td>0.2</td>\n",
       "    </tr>\n",
       "    <tr>\n",
       "      <th>2</th>\n",
       "      <td>4.7</td>\n",
       "      <td>3.2</td>\n",
       "      <td>1.3</td>\n",
       "      <td>0.2</td>\n",
       "    </tr>\n",
       "    <tr>\n",
       "      <th>3</th>\n",
       "      <td>4.6</td>\n",
       "      <td>3.1</td>\n",
       "      <td>1.5</td>\n",
       "      <td>0.2</td>\n",
       "    </tr>\n",
       "    <tr>\n",
       "      <th>4</th>\n",
       "      <td>5.0</td>\n",
       "      <td>3.6</td>\n",
       "      <td>1.4</td>\n",
       "      <td>0.2</td>\n",
       "    </tr>\n",
       "  </tbody>\n",
       "</table>\n",
       "</div>"
      ],
      "text/plain": [
       "   sepal length (cm)  sepal width (cm)  petal length (cm)  petal width (cm)\n",
       "0                5.1               3.5                1.4               0.2\n",
       "1                4.9               3.0                1.4               0.2\n",
       "2                4.7               3.2                1.3               0.2\n",
       "3                4.6               3.1                1.5               0.2\n",
       "4                5.0               3.6                1.4               0.2"
      ]
     },
     "execution_count": 3,
     "metadata": {},
     "output_type": "execute_result"
    }
   ],
   "source": [
    "from sklearn.datasets import load_iris\n",
    "\n",
    "iris = load_iris()\n",
    "\n",
    "df = pd.DataFrame(iris.data, columns = iris.feature_names)\n",
    "\n",
    "df.head()"
   ]
  },
  {
   "cell_type": "code",
   "execution_count": 4,
   "metadata": {},
   "outputs": [
    {
     "data": {
      "text/html": [
       "<div>\n",
       "<style scoped>\n",
       "    .dataframe tbody tr th:only-of-type {\n",
       "        vertical-align: middle;\n",
       "    }\n",
       "\n",
       "    .dataframe tbody tr th {\n",
       "        vertical-align: top;\n",
       "    }\n",
       "\n",
       "    .dataframe thead th {\n",
       "        text-align: right;\n",
       "    }\n",
       "</style>\n",
       "<table border=\"1\" class=\"dataframe\">\n",
       "  <thead>\n",
       "    <tr style=\"text-align: right;\">\n",
       "      <th></th>\n",
       "      <th>sepal length (cm)</th>\n",
       "      <th>sepal width (cm)</th>\n",
       "      <th>petal length (cm)</th>\n",
       "      <th>petal width (cm)</th>\n",
       "      <th>species</th>\n",
       "    </tr>\n",
       "  </thead>\n",
       "  <tbody>\n",
       "    <tr>\n",
       "      <th>0</th>\n",
       "      <td>5.1</td>\n",
       "      <td>3.5</td>\n",
       "      <td>1.4</td>\n",
       "      <td>0.2</td>\n",
       "      <td>0</td>\n",
       "    </tr>\n",
       "    <tr>\n",
       "      <th>1</th>\n",
       "      <td>4.9</td>\n",
       "      <td>3.0</td>\n",
       "      <td>1.4</td>\n",
       "      <td>0.2</td>\n",
       "      <td>0</td>\n",
       "    </tr>\n",
       "    <tr>\n",
       "      <th>2</th>\n",
       "      <td>4.7</td>\n",
       "      <td>3.2</td>\n",
       "      <td>1.3</td>\n",
       "      <td>0.2</td>\n",
       "      <td>0</td>\n",
       "    </tr>\n",
       "    <tr>\n",
       "      <th>3</th>\n",
       "      <td>4.6</td>\n",
       "      <td>3.1</td>\n",
       "      <td>1.5</td>\n",
       "      <td>0.2</td>\n",
       "      <td>0</td>\n",
       "    </tr>\n",
       "    <tr>\n",
       "      <th>4</th>\n",
       "      <td>5.0</td>\n",
       "      <td>3.6</td>\n",
       "      <td>1.4</td>\n",
       "      <td>0.2</td>\n",
       "      <td>0</td>\n",
       "    </tr>\n",
       "  </tbody>\n",
       "</table>\n",
       "</div>"
      ],
      "text/plain": [
       "   sepal length (cm)  sepal width (cm)  petal length (cm)  petal width (cm)  \\\n",
       "0                5.1               3.5                1.4               0.2   \n",
       "1                4.9               3.0                1.4               0.2   \n",
       "2                4.7               3.2                1.3               0.2   \n",
       "3                4.6               3.1                1.5               0.2   \n",
       "4                5.0               3.6                1.4               0.2   \n",
       "\n",
       "   species  \n",
       "0        0  \n",
       "1        0  \n",
       "2        0  \n",
       "3        0  \n",
       "4        0  "
      ]
     },
     "execution_count": 4,
     "metadata": {},
     "output_type": "execute_result"
    }
   ],
   "source": [
    "df[\"species\"] = iris.target\n",
    "\n",
    "df.head()"
   ]
  },
  {
   "cell_type": "markdown",
   "metadata": {},
   "source": [
    "## Cleaning the dataset"
   ]
  },
  {
   "cell_type": "code",
   "execution_count": 5,
   "metadata": {},
   "outputs": [
    {
     "data": {
      "text/plain": [
       "['sepal length (cm)',\n",
       " 'sepal width (cm)',\n",
       " 'petal length (cm)',\n",
       " 'petal width (cm)']"
      ]
     },
     "execution_count": 5,
     "metadata": {},
     "output_type": "execute_result"
    }
   ],
   "source": [
    "columns = iris.feature_names\n",
    "\n",
    "columns"
   ]
  },
  {
   "cell_type": "code",
   "execution_count": 6,
   "metadata": {},
   "outputs": [
    {
     "data": {
      "text/plain": [
       "species\n",
       "0    50\n",
       "1    50\n",
       "2    50\n",
       "Name: count, dtype: int64"
      ]
     },
     "execution_count": 6,
     "metadata": {},
     "output_type": "execute_result"
    }
   ],
   "source": [
    "df[\"species\"].value_counts()"
   ]
  },
  {
   "cell_type": "code",
   "execution_count": 9,
   "metadata": {},
   "outputs": [
    {
     "data": {
      "image/png": "[encoded data removed]",
      "text/plain": [
       "<Figure size 1200x1000 with 4 Axes>"
      ]
     },
     "metadata": {},
     "output_type": "display_data"
    }
   ],
   "source": [
    "plt.figure(figsize=(12,10))\n",
    "\n",
    "i = 1\n",
    "for col in columns:\n",
    "    plt.subplot(2,2,i)\n",
    "    sns.boxplot(df[col])\n",
    "    i+=1\n",
    "\n",
    "plt.show()"
   ]
  },
  {
   "cell_type": "code",
   "execution_count": 8,
   "metadata": {},
   "outputs": [
    {
     "data": {
      "text/plain": [
       "count    150.000000\n",
       "mean       3.057333\n",
       "std        0.435866\n",
       "min        2.000000\n",
       "25%        2.800000\n",
       "50%        3.000000\n",
       "75%        3.300000\n",
       "max        4.400000\n",
       "Name: sepal width (cm), dtype: float64"
      ]
     },
     "execution_count": 8,
     "metadata": {},
     "output_type": "execute_result"
    }
   ],
   "source": [
    "df[\"sepal width (cm)\"].describe()"
   ]
  },
  {
   "cell_type": "code",
   "execution_count": 10,
   "metadata": {},
   "outputs": [
    {
     "data": {
      "text/plain": [
       "0.5"
      ]
     },
     "execution_count": 10,
     "metadata": {},
     "output_type": "execute_result"
    }
   ],
   "source": [
    "q1 = df[\"sepal width (cm)\"].quantile(0.25)\n",
    "q3 = df[\"sepal width (cm)\"].quantile(0.75)\n",
    "\n",
    "IRQ = q3 - q1\n",
    "\n",
    "IRQ"
   ]
  },
  {
   "cell_type": "code",
   "execution_count": 11,
   "metadata": {},
   "outputs": [
    {
     "data": {
      "text/plain": [
       "<Axes: ylabel='sepal width (cm)'>"
      ]
     },
     "execution_count": 11,
     "metadata": {},
     "output_type": "execute_result"
    },
    {
     "data": {
      "image/png": "[encoded data removed]",
      "text/plain": [
       "<Figure size 640x480 with 1 Axes>"
      ]
     },
     "metadata": {},
     "output_type": "display_data"
    }
   ],
   "source": [
    "def remove_outlier(data, q1, q3, IRQ):\n",
    "    low = q1 - 1.5*IRQ\n",
    "    high = q3 + 1.5*IRQ\n",
    "\n",
    "    if data > high:\n",
    "        return high\n",
    "    elif data < low:\n",
    "        return low\n",
    "    else:\n",
    "        return data\n",
    "\n",
    "df[\"sepal width (cm)\"] = [remove_outlier(i, q1, q3, IRQ) for i in df[\"sepal width (cm)\"]]\n",
    "\n",
    "sns.boxplot(df[\"sepal width (cm)\"])"
   ]
  },
  {
   "cell_type": "markdown",
   "metadata": {},
   "source": [
    "## Spliting the data"
   ]
  },
  {
   "cell_type": "code",
   "execution_count": 20,
   "metadata": {},
   "outputs": [
    {
     "data": {
      "text/plain": [
       "array([[5.1 , 3.5 , 1.4 , 0.2 ],\n",
       "       [4.9 , 3.  , 1.4 , 0.2 ],\n",
       "       [4.7 , 3.2 , 1.3 , 0.2 ],\n",
       "       [4.6 , 3.1 , 1.5 , 0.2 ],\n",
       "       [5.  , 3.6 , 1.4 , 0.2 ],\n",
       "       [5.4 , 3.9 , 1.7 , 0.4 ],\n",
       "       [4.6 , 3.4 , 1.4 , 0.3 ],\n",
       "       [5.  , 3.4 , 1.5 , 0.2 ],\n",
       "       [4.4 , 2.9 , 1.4 , 0.2 ],\n",
       "       [4.9 , 3.1 , 1.5 , 0.1 ],\n",
       "       [5.4 , 3.7 , 1.5 , 0.2 ],\n",
       "       [4.8 , 3.4 , 1.6 , 0.2 ],\n",
       "       [4.8 , 3.  , 1.4 , 0.1 ],\n",
       "       [4.3 , 3.  , 1.1 , 0.1 ],\n",
       "       [5.8 , 4.  , 1.2 , 0.2 ],\n",
       "       [5.7 , 4.05, 1.5 , 0.4 ],\n",
       "       [5.4 , 3.9 , 1.3 , 0.4 ],\n",
       "       [5.1 , 3.5 , 1.4 , 0.3 ],\n",
       "       [5.7 , 3.8 , 1.7 , 0.3 ],\n",
       "       [5.1 , 3.8 , 1.5 , 0.3 ],\n",
       "       [5.4 , 3.4 , 1.7 , 0.2 ],\n",
       "       [5.1 , 3.7 , 1.5 , 0.4 ],\n",
       "       [4.6 , 3.6 , 1.  , 0.2 ],\n",
       "       [5.1 , 3.3 , 1.7 , 0.5 ],\n",
       "       [4.8 , 3.4 , 1.9 , 0.2 ],\n",
       "       [5.  , 3.  , 1.6 , 0.2 ],\n",
       "       [5.  , 3.4 , 1.6 , 0.4 ],\n",
       "       [5.2 , 3.5 , 1.5 , 0.2 ],\n",
       "       [5.2 , 3.4 , 1.4 , 0.2 ],\n",
       "       [4.7 , 3.2 , 1.6 , 0.2 ],\n",
       "       [4.8 , 3.1 , 1.6 , 0.2 ],\n",
       "       [5.4 , 3.4 , 1.5 , 0.4 ],\n",
       "       [5.2 , 4.05, 1.5 , 0.1 ],\n",
       "       [5.5 , 4.05, 1.4 , 0.2 ],\n",
       "       [4.9 , 3.1 , 1.5 , 0.2 ],\n",
       "       [5.  , 3.2 , 1.2 , 0.2 ],\n",
       "       [5.5 , 3.5 , 1.3 , 0.2 ],\n",
       "       [4.9 , 3.6 , 1.4 , 0.1 ],\n",
       "       [4.4 , 3.  , 1.3 , 0.2 ],\n",
       "       [5.1 , 3.4 , 1.5 , 0.2 ],\n",
       "       [5.  , 3.5 , 1.3 , 0.3 ],\n",
       "       [4.5 , 2.3 , 1.3 , 0.3 ],\n",
       "       [4.4 , 3.2 , 1.3 , 0.2 ],\n",
       "       [5.  , 3.5 , 1.6 , 0.6 ],\n",
       "       [5.1 , 3.8 , 1.9 , 0.4 ],\n",
       "       [4.8 , 3.  , 1.4 , 0.3 ],\n",
       "       [5.1 , 3.8 , 1.6 , 0.2 ],\n",
       "       [4.6 , 3.2 , 1.4 , 0.2 ],\n",
       "       [5.3 , 3.7 , 1.5 , 0.2 ],\n",
       "       [5.  , 3.3 , 1.4 , 0.2 ],\n",
       "       [7.  , 3.2 , 4.7 , 1.4 ],\n",
       "       [6.4 , 3.2 , 4.5 , 1.5 ],\n",
       "       [6.9 , 3.1 , 4.9 , 1.5 ],\n",
       "       [5.5 , 2.3 , 4.  , 1.3 ],\n",
       "       [6.5 , 2.8 , 4.6 , 1.5 ],\n",
       "       [5.7 , 2.8 , 4.5 , 1.3 ],\n",
       "       [6.3 , 3.3 , 4.7 , 1.6 ],\n",
       "       [4.9 , 2.4 , 3.3 , 1.  ],\n",
       "       [6.6 , 2.9 , 4.6 , 1.3 ],\n",
       "       [5.2 , 2.7 , 3.9 , 1.4 ],\n",
       "       [5.  , 2.05, 3.5 , 1.  ],\n",
       "       [5.9 , 3.  , 4.2 , 1.5 ],\n",
       "       [6.  , 2.2 , 4.  , 1.  ],\n",
       "       [6.1 , 2.9 , 4.7 , 1.4 ],\n",
       "       [5.6 , 2.9 , 3.6 , 1.3 ],\n",
       "       [6.7 , 3.1 , 4.4 , 1.4 ],\n",
       "       [5.6 , 3.  , 4.5 , 1.5 ],\n",
       "       [5.8 , 2.7 , 4.1 , 1.  ],\n",
       "       [6.2 , 2.2 , 4.5 , 1.5 ],\n",
       "       [5.6 , 2.5 , 3.9 , 1.1 ],\n",
       "       [5.9 , 3.2 , 4.8 , 1.8 ],\n",
       "       [6.1 , 2.8 , 4.  , 1.3 ],\n",
       "       [6.3 , 2.5 , 4.9 , 1.5 ],\n",
       "       [6.1 , 2.8 , 4.7 , 1.2 ],\n",
       "       [6.4 , 2.9 , 4.3 , 1.3 ],\n",
       "       [6.6 , 3.  , 4.4 , 1.4 ],\n",
       "       [6.8 , 2.8 , 4.8 , 1.4 ],\n",
       "       [6.7 , 3.  , 5.  , 1.7 ],\n",
       "       [6.  , 2.9 , 4.5 , 1.5 ],\n",
       "       [5.7 , 2.6 , 3.5 , 1.  ],\n",
       "       [5.5 , 2.4 , 3.8 , 1.1 ],\n",
       "       [5.5 , 2.4 , 3.7 , 1.  ],\n",
       "       [5.8 , 2.7 , 3.9 , 1.2 ],\n",
       "       [6.  , 2.7 , 5.1 , 1.6 ],\n",
       "       [5.4 , 3.  , 4.5 , 1.5 ],\n",
       "       [6.  , 3.4 , 4.5 , 1.6 ],\n",
       "       [6.7 , 3.1 , 4.7 , 1.5 ],\n",
       "       [6.3 , 2.3 , 4.4 , 1.3 ],\n",
       "       [5.6 , 3.  , 4.1 , 1.3 ],\n",
       "       [5.5 , 2.5 , 4.  , 1.3 ],\n",
       "       [5.5 , 2.6 , 4.4 , 1.2 ],\n",
       "       [6.1 , 3.  , 4.6 , 1.4 ],\n",
       "       [5.8 , 2.6 , 4.  , 1.2 ],\n",
       "       [5.  , 2.3 , 3.3 , 1.  ],\n",
       "       [5.6 , 2.7 , 4.2 , 1.3 ],\n",
       "       [5.7 , 3.  , 4.2 , 1.2 ],\n",
       "       [5.7 , 2.9 , 4.2 , 1.3 ],\n",
       "       [6.2 , 2.9 , 4.3 , 1.3 ],\n",
       "       [5.1 , 2.5 , 3.  , 1.1 ],\n",
       "       [5.7 , 2.8 , 4.1 , 1.3 ],\n",
       "       [6.3 , 3.3 , 6.  , 2.5 ],\n",
       "       [5.8 , 2.7 , 5.1 , 1.9 ],\n",
       "       [7.1 , 3.  , 5.9 , 2.1 ],\n",
       "       [6.3 , 2.9 , 5.6 , 1.8 ],\n",
       "       [6.5 , 3.  , 5.8 , 2.2 ],\n",
       "       [7.6 , 3.  , 6.6 , 2.1 ],\n",
       "       [4.9 , 2.5 , 4.5 , 1.7 ],\n",
       "       [7.3 , 2.9 , 6.3 , 1.8 ],\n",
       "       [6.7 , 2.5 , 5.8 , 1.8 ],\n",
       "       [7.2 , 3.6 , 6.1 , 2.5 ],\n",
       "       [6.5 , 3.2 , 5.1 , 2.  ],\n",
       "       [6.4 , 2.7 , 5.3 , 1.9 ],\n",
       "       [6.8 , 3.  , 5.5 , 2.1 ],\n",
       "       [5.7 , 2.5 , 5.  , 2.  ],\n",
       "       [5.8 , 2.8 , 5.1 , 2.4 ],\n",
       "       [6.4 , 3.2 , 5.3 , 2.3 ],\n",
       "       [6.5 , 3.  , 5.5 , 1.8 ],\n",
       "       [7.7 , 3.8 , 6.7 , 2.2 ],\n",
       "       [7.7 , 2.6 , 6.9 , 2.3 ],\n",
       "       [6.  , 2.2 , 5.  , 1.5 ],\n",
       "       [6.9 , 3.2 , 5.7 , 2.3 ],\n",
       "       [5.6 , 2.8 , 4.9 , 2.  ],\n",
       "       [7.7 , 2.8 , 6.7 , 2.  ],\n",
       "       [6.3 , 2.7 , 4.9 , 1.8 ],\n",
       "       [6.7 , 3.3 , 5.7 , 2.1 ],\n",
       "       [7.2 , 3.2 , 6.  , 1.8 ],\n",
       "       [6.2 , 2.8 , 4.8 , 1.8 ],\n",
       "       [6.1 , 3.  , 4.9 , 1.8 ],\n",
       "       [6.4 , 2.8 , 5.6 , 2.1 ],\n",
       "       [7.2 , 3.  , 5.8 , 1.6 ],\n",
       "       [7.4 , 2.8 , 6.1 , 1.9 ],\n",
       "       [7.9 , 3.8 , 6.4 , 2.  ],\n",
       "       [6.4 , 2.8 , 5.6 , 2.2 ],\n",
       "       [6.3 , 2.8 , 5.1 , 1.5 ],\n",
       "       [6.1 , 2.6 , 5.6 , 1.4 ],\n",
       "       [7.7 , 3.  , 6.1 , 2.3 ],\n",
       "       [6.3 , 3.4 , 5.6 , 2.4 ],\n",
       "       [6.4 , 3.1 , 5.5 , 1.8 ],\n",
       "       [6.  , 3.  , 4.8 , 1.8 ],\n",
       "       [6.9 , 3.1 , 5.4 , 2.1 ],\n",
       "       [6.7 , 3.1 , 5.6 , 2.4 ],\n",
       "       [6.9 , 3.1 , 5.1 , 2.3 ],\n",
       "       [5.8 , 2.7 , 5.1 , 1.9 ],\n",
       "       [6.8 , 3.2 , 5.9 , 2.3 ],\n",
       "       [6.7 , 3.3 , 5.7 , 2.5 ],\n",
       "       [6.7 , 3.  , 5.2 , 2.3 ],\n",
       "       [6.3 , 2.5 , 5.  , 1.9 ],\n",
       "       [6.5 , 3.  , 5.2 , 2.  ],\n",
       "       [6.2 , 3.4 , 5.4 , 2.3 ],\n",
       "       [5.9 , 3.  , 5.1 , 1.8 ]])"
      ]
     },
     "execution_count": 20,
     "metadata": {},
     "output_type": "execute_result"
    }
   ],
   "source": [
    "x = df.drop([\"species\"], axis=1).values\n",
    "y = df[\"species\"].values\n",
    "\n",
    "x"
   ]
  },
  {
   "cell_type": "code",
   "execution_count": 21,
   "metadata": {},
   "outputs": [
    {
     "data": {
      "text/plain": [
       "array([0, 0, 0, 0, 0, 0, 0, 0, 0, 0, 0, 0, 0, 0, 0, 0, 0, 0, 0, 0, 0, 0,\n",
       "       0, 0, 0, 0, 0, 0, 0, 0, 0, 0, 0, 0, 0, 0, 0, 0, 0, 0, 0, 0, 0, 0,\n",
       "       0, 0, 0, 0, 0, 0, 1, 1, 1, 1, 1, 1, 1, 1, 1, 1, 1, 1, 1, 1, 1, 1,\n",
       "       1, 1, 1, 1, 1, 1, 1, 1, 1, 1, 1, 1, 1, 1, 1, 1, 1, 1, 1, 1, 1, 1,\n",
       "       1, 1, 1, 1, 1, 1, 1, 1, 1, 1, 1, 1, 2, 2, 2, 2, 2, 2, 2, 2, 2, 2,\n",
       "       2, 2, 2, 2, 2, 2, 2, 2, 2, 2, 2, 2, 2, 2, 2, 2, 2, 2, 2, 2, 2, 2,\n",
       "       2, 2, 2, 2, 2, 2, 2, 2, 2, 2, 2, 2, 2, 2, 2, 2, 2, 2])"
      ]
     },
     "execution_count": 21,
     "metadata": {},
     "output_type": "execute_result"
    }
   ],
   "source": [
    "y"
   ]
  },
  {
   "cell_type": "code",
   "execution_count": 22,
   "metadata": {},
   "outputs": [
    {
     "data": {
      "text/plain": [
       "(45, 4)"
      ]
     },
     "execution_count": 22,
     "metadata": {},
     "output_type": "execute_result"
    }
   ],
   "source": [
    "from sklearn.model_selection import train_test_split\n",
    "\n",
    "x_train, x_test, y_train,y_test = train_test_split(x,y, test_size=0.3, random_state=42)\n",
    "\n",
    "x_test.shape"
   ]
  },
  {
   "cell_type": "markdown",
   "metadata": {},
   "source": [
    "## Preprocessing"
   ]
  },
  {
   "cell_type": "code",
   "execution_count": 23,
   "metadata": {},
   "outputs": [
    {
     "data": {
      "text/plain": [
       "array([[ 0.3100623 , -0.50632421,  0.484213  , -0.05282593],\n",
       "       [-0.17225683,  1.92125762, -1.26695916, -1.27039917],\n",
       "       [ 2.23933883, -0.99184057,  1.76840592,  1.43531914],\n",
       "       [ 0.18948252, -0.26356603,  0.36746819,  0.35303182],\n",
       "       [ 1.15412078, -0.50632421,  0.54258541,  0.2177459 ],\n",
       "       [-0.53399618,  0.95022489, -1.38370397, -1.13511325],\n",
       "       [-0.29283662, -0.26356603, -0.15788346,  0.08245999],\n",
       "       [ 1.27470056,  0.22195034,  0.71770262,  1.43531914],\n",
       "       [ 0.43064208, -1.9628733 ,  0.36746819,  0.35303182],\n",
       "       [-0.05167705, -0.74908239,  0.01723376, -0.05282593],\n",
       "       [ 0.79238143,  0.46470852,  0.71770262,  1.0294614 ],\n",
       "       [-1.25747488, -0.02080784, -1.44207638, -1.540971  ],\n",
       "       [-0.4134164 ,  1.19298307, -1.50044878, -1.40568508],\n",
       "       [-1.1368951 ,  0.22195034, -1.38370397, -1.540971  ],\n",
       "       [-0.89573553,  1.92125762, -1.38370397, -1.27039917],\n",
       "       [ 0.55122187,  0.7074667 ,  0.484213  ,  0.48831773],\n",
       "       [ 0.79238143, -0.02080784,  1.12630946,  1.30003323],\n",
       "       [-0.29283662, -1.23459876,  0.01723376, -0.18811184],\n",
       "       [-0.17225683, -0.50632421,  0.36746819,  0.08245999],\n",
       "       [ 0.67180165, -0.50632421,  1.00956465,  1.30003323],\n",
       "       [-1.37805466,  0.46470852, -1.32533157, -1.40568508],\n",
       "       [ 0.3100623 , -0.02080784,  0.60095781,  0.75888956],\n",
       "       [-1.01631531,  0.95022489, -1.32533157, -1.13511325],\n",
       "       [ 0.67180165, -0.50632421,  1.00956465,  1.16474731],\n",
       "       [ 2.4804984 ,  1.92125762,  1.47654389,  1.0294614 ],\n",
       "       [ 1.033541  , -0.02080784,  0.77607503,  1.43531914],\n",
       "       [ 1.033541  , -1.23459876,  1.12630946,  0.75888956],\n",
       "       [ 1.15412078,  0.46470852,  1.18468187,  1.43531914],\n",
       "       [-1.25747488, -0.02080784, -1.44207638, -1.27039917],\n",
       "       [-1.25747488,  0.22195034, -1.32533157, -1.40568508],\n",
       "       [-1.49863445,  1.43574125, -1.675566  , -1.40568508],\n",
       "       [-0.17225683,  2.52815307, -1.38370397, -1.13511325],\n",
       "       [ 1.033541  ,  0.22195034,  0.30909579,  0.2177459 ],\n",
       "       [-1.25747488,  0.95022489, -1.32533157, -1.40568508],\n",
       "       [-1.73979401,  0.46470852, -1.50044878, -1.40568508],\n",
       "       [ 0.55122187, -1.23459876,  0.65933022,  0.89417548],\n",
       "       [ 0.67180165,  0.46470852,  0.36746819,  0.35303182],\n",
       "       [-0.77515575,  1.19298307, -1.38370397, -1.40568508],\n",
       "       [-1.01631531,  1.43574125, -1.44207638, -1.40568508],\n",
       "       [-0.77515575,  2.52815307, -1.38370397, -1.540971  ],\n",
       "       [-0.05167705, -0.74908239,  0.71770262,  0.89417548],\n",
       "       [ 0.18948252,  0.95022489,  0.36746819,  0.48831773],\n",
       "       [ 1.033541  ,  0.22195034,  0.484213  ,  0.35303182],\n",
       "       [-0.53399618,  2.1640158 , -1.50044878, -1.13511325],\n",
       "       [-0.53399618,  1.67849943, -1.38370397, -1.40568508]])"
      ]
     },
     "execution_count": 23,
     "metadata": {},
     "output_type": "execute_result"
    }
   ],
   "source": [
    "from sklearn.preprocessing import StandardScaler\n",
    "\n",
    "scaler = StandardScaler()\n",
    "\n",
    "x_train = scaler.fit_transform(x_train)\n",
    "x_test = scaler.transform(x_test)\n",
    "\n",
    "x_test"
   ]
  },
  {
   "cell_type": "markdown",
   "metadata": {},
   "source": [
    "## Logistic Regression"
   ]
  },
  {
   "cell_type": "code",
   "execution_count": 24,
   "metadata": {},
   "outputs": [
    {
     "data": {
      "text/plain": [
       "array([1, 0, 2, 1, 1, 0, 1, 2, 1, 1, 2, 0, 0, 0, 0, 1, 2, 1, 1, 2, 0, 2,\n",
       "       0, 2, 2, 2, 2, 2, 0, 0, 0, 0, 1, 0, 0, 2, 1, 0, 0, 0, 2, 1, 1, 0,\n",
       "       0])"
      ]
     },
     "execution_count": 24,
     "metadata": {},
     "output_type": "execute_result"
    }
   ],
   "source": [
    "from sklearn.linear_model import LogisticRegression\n",
    "\n",
    "model = LogisticRegression()\n",
    "\n",
    "model.fit(x_train, y_train)\n",
    "\n",
    "y_pred = model.predict(x_test)\n",
    "\n",
    "y_pred"
   ]
  },
  {
   "cell_type": "code",
   "execution_count": 25,
   "metadata": {},
   "outputs": [
    {
     "data": {
      "text/plain": [
       "array([1, 0, 2, 1, 1, 0, 1, 2, 1, 1, 2, 0, 0, 0, 0, 1, 2, 1, 1, 2, 0, 2,\n",
       "       0, 2, 2, 2, 2, 2, 0, 0, 0, 0, 1, 0, 0, 2, 1, 0, 0, 0, 2, 1, 1, 0,\n",
       "       0])"
      ]
     },
     "execution_count": 25,
     "metadata": {},
     "output_type": "execute_result"
    }
   ],
   "source": [
    "y_test"
   ]
  },
  {
   "cell_type": "markdown",
   "metadata": {},
   "source": [
    "## Error calculation"
   ]
  },
  {
   "cell_type": "code",
   "execution_count": 28,
   "metadata": {},
   "outputs": [
    {
     "name": "stdout",
     "output_type": "stream",
     "text": [
      "Total error 0\n"
     ]
    }
   ],
   "source": [
    "def count_error(y_test, y_pred):\n",
    "    count = 0\n",
    "    for i in range(0,len(y_test)):\n",
    "        if y_pred[i] != y_test[i]:\n",
    "            count += 1\n",
    "    print(\"Total error\",count)\n",
    "\n",
    "count_error(y_test, y_pred)"
   ]
  },
  {
   "cell_type": "code",
   "execution_count": 29,
   "metadata": {},
   "outputs": [
    {
     "data": {
      "text/plain": [
       "0.0"
      ]
     },
     "execution_count": 29,
     "metadata": {},
     "output_type": "execute_result"
    }
   ],
   "source": [
    "from sklearn.metrics import mean_squared_error\n",
    "\n",
    "mean_squared_error(y_test, y_pred)"
   ]
  },
  {
   "cell_type": "markdown",
   "metadata": {},
   "source": [
    "## Visualization"
   ]
  },
  {
   "cell_type": "code",
   "execution_count": 38,
   "metadata": {},
   "outputs": [
    {
     "data": {
      "image/png": "[encoded data removed]",
      "text/plain": [
       "<Figure size 1200x500 with 2 Axes>"
      ]
     },
     "metadata": {},
     "output_type": "display_data"
    }
   ],
   "source": [
    "plt.figure(figsize=(12,5))\n",
    "\n",
    "plt.subplot(1,2,1)\n",
    "sns.barplot(x = y_test, y=x_test[:,0]).set_title(\"Actual Data\")\n",
    "plt.subplot(1,2,2)\n",
    "sns.barplot(x = y_pred, y=x_test[:,0]).set_title(\"Predicted Output\")\n",
    "\n",
    "plt.show()"
   ]
  }
 ],
 "metadata": {
  "kernelspec": {
   "display_name": "Python 3",
   "language": "python",
   "name": "python3"
  },
  "language_info": {
   "codemirror_mode": {
    "name": "ipython",
    "version": 3
   },
   "file_extension": ".py",
   "mimetype": "text/x-python",
   "name": "python",
   "nbconvert_exporter": "python",
   "pygments_lexer": "ipython3",
   "version": "3.11.3"
  }
 },
 "nbformat": 4,
 "nbformat_minor": 2
}
